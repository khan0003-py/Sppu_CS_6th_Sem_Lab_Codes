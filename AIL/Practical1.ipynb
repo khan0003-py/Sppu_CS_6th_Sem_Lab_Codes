{
 "cells": [
  {
   "cell_type": "code",
   "execution_count": null,
   "id": "49e6a3c9",
   "metadata": {},
   "outputs": [],
   "source": [
    "def dfs(graph, node, visited):\n",
    "    if node not in visited:\n",
    "        print(node)\n",
    "        visited.add(node)\n",
    "        for neighbor in graph[node]:\n",
    "            dfs(graph, neighbor, visited)\n",
    "graph = {\n",
    " 'A':['B','C'],\n",
    " 'B':['A','D','E'],\n",
    " 'C':['A','F','G'],\n",
    " 'D':['B'],\n",
    " 'E':['B'],\n",
    " 'F':['C'],\n",
    " 'G':['C']\n",
    "}\n",
    "dfs(graph, 'B', set())\n"
   ]
  },
  {
   "cell_type": "code",
   "execution_count": null,
   "id": "538625d0",
   "metadata": {},
   "outputs": [],
   "source": [
    "def bfs(graph, start):\n",
    "    visited, queue=set(), [start]\n",
    "    while queue:\n",
    "        vertex=queue.pop(0)\n",
    "        if vertex not in visited:\n",
    "            visited.add(vertex)\n",
    "            queue.extend(graph[vertex]-visited)\n",
    "    return visited\n",
    "graph={\n",
    " 'A':set(['B','C']),\n",
    " 'B':set(['A','D','E']),\n",
    " 'C':set(['A','F','G']),\n",
    " 'D':set(['B']),\n",
    " 'E':set(['B']),\n",
    " 'F':set(['C']),\n",
    " 'G':set(['C'])\n",
    "}\n",
    "bfs(graph, 'A')"
   ]
  }
 ],
 "metadata": {
  "kernelspec": {
   "display_name": "Python 3 (ipykernel)",
   "language": "python",
   "name": "python3"
  },
  "language_info": {
   "codemirror_mode": {
    "name": "ipython",
    "version": 3
   },
   "file_extension": ".py",
   "mimetype": "text/x-python",
   "name": "python",
   "nbconvert_exporter": "python",
   "pygments_lexer": "ipython3",
   "version": "3.12.2"
  }
 },
 "nbformat": 4,
 "nbformat_minor": 5
}
