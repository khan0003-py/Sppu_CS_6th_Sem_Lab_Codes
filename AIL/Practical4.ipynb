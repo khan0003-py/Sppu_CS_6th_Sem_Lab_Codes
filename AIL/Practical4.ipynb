{
 "cells": [
  {
   "cell_type": "code",
   "execution_count": 5,
   "id": "7648d5e0",
   "metadata": {},
   "outputs": [
    {
     "name": "stdout",
     "output_type": "stream",
     "text": [
      "Enter the number of queens: \n",
      "[1, 0, 0, 0]\n",
      "[0, 0, 1, 0]\n",
      "[0, 0, 0, 0]\n",
      "[0, 1, 0, 0]\n"
     ]
    }
   ],
   "source": [
    "print(\"Enter the number of queens: \")\n",
    "N=int(input())\n",
    "\n",
    "#Chessboard:\n",
    "board=[[0]*N for _ in range(N)]\n",
    "def is_attack(i,j):\n",
    "    for k in range(0,N):\n",
    "        if board [i][k]==1 or board[k][j]==1:\n",
    "            return True\n",
    "    #Checking Diagonals:\n",
    "    for k in range(0,N):\n",
    "        for l in range(0,N):\n",
    "            if(k+l==i+j) or (k-l==i-j):\n",
    "                if board[k][l]==1:\n",
    "                    return True\n",
    "    return False\n",
    "def N_queen(n):\n",
    "    if n==0:\n",
    "        return True\n",
    "    for i in range(0,N):\n",
    "        for j in range(0,N):\n",
    "            '''checking if we can place a queen here or no queen wi'''\n",
    "            if (not(is_attack(i,j))) and (board[i][j]!=1):\n",
    "                board[i][j]=1\n",
    "                #Recursion\n",
    "                if N_queen(n-1)==True:\n",
    "                    return True\n",
    "                board[i][j]=0\n",
    "    return False\n",
    "N_queen(N)\n",
    "for i in board:\n",
    "    print(i)"
   ]
  }
 ],
 "metadata": {
  "kernelspec": {
   "display_name": "Python 3 (ipykernel)",
   "language": "python",
   "name": "python3"
  },
  "language_info": {
   "codemirror_mode": {
    "name": "ipython",
    "version": 3
   },
   "file_extension": ".py",
   "mimetype": "text/x-python",
   "name": "python",
   "nbconvert_exporter": "python",
   "pygments_lexer": "ipython3",
   "version": "3.12.2"
  }
 },
 "nbformat": 4,
 "nbformat_minor": 5
}
